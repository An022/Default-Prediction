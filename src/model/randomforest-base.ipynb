{
 "cells": [
  {
   "cell_type": "code",
   "execution_count": 1,
   "metadata": {},
   "outputs": [],
   "source": [
    "import numpy as np\n",
    "import pandas as pd \n",
    "import random\n",
    "import os\n",
    "import warnings, gc\n",
    "import time\n",
    "\n",
    "from sklearn.metrics import accuracy_score\n",
    "from sklearn.ensemble import RandomForestClassifier\n",
    "from sklearn.preprocessing import LabelEncoder\n",
    "from sklearn.model_selection import train_test_split\n",
    "from sklearn.model_selection import StratifiedKFold, KFold\n",
    "from sklearn.metrics import roc_auc_score, roc_curve, auc\n",
    "from sklearn.metrics import confusion_matrix"
   ]
  },
  {
   "cell_type": "markdown",
   "metadata": {},
   "source": [
    "# **Read File**"
   ]
  },
  {
   "cell_type": "code",
   "execution_count": 2,
   "metadata": {},
   "outputs": [],
   "source": [
    "TRAIN_PATH = './input/train.parquet'"
   ]
  },
  {
   "cell_type": "code",
   "execution_count": 3,
   "metadata": {},
   "outputs": [],
   "source": [
    "train_org = pd.read_parquet(TRAIN_PATH)"
   ]
  },
  {
   "cell_type": "code",
   "execution_count": 4,
   "metadata": {
    "scrolled": true
   },
   "outputs": [
    {
     "data": {
      "text/html": [
       "<div>\n",
       "<style scoped>\n",
       "    .dataframe tbody tr th:only-of-type {\n",
       "        vertical-align: middle;\n",
       "    }\n",
       "\n",
       "    .dataframe tbody tr th {\n",
       "        vertical-align: top;\n",
       "    }\n",
       "\n",
       "    .dataframe thead th {\n",
       "        text-align: right;\n",
       "    }\n",
       "</style>\n",
       "<table border=\"1\" class=\"dataframe\">\n",
       "  <thead>\n",
       "    <tr style=\"text-align: right;\">\n",
       "      <th></th>\n",
       "      <th>P_2</th>\n",
       "      <th>D_39</th>\n",
       "      <th>B_1</th>\n",
       "      <th>B_2</th>\n",
       "      <th>R_1</th>\n",
       "      <th>D_41</th>\n",
       "      <th>B_3</th>\n",
       "      <th>D_44</th>\n",
       "      <th>B_4</th>\n",
       "      <th>D_45</th>\n",
       "      <th>...</th>\n",
       "      <th>D_131</th>\n",
       "      <th>D_133</th>\n",
       "      <th>R_28</th>\n",
       "      <th>D_139</th>\n",
       "      <th>D_140</th>\n",
       "      <th>D_141</th>\n",
       "      <th>D_143</th>\n",
       "      <th>D_144</th>\n",
       "      <th>D_145</th>\n",
       "      <th>target</th>\n",
       "    </tr>\n",
       "    <tr>\n",
       "      <th>customer_ID</th>\n",
       "      <th></th>\n",
       "      <th></th>\n",
       "      <th></th>\n",
       "      <th></th>\n",
       "      <th></th>\n",
       "      <th></th>\n",
       "      <th></th>\n",
       "      <th></th>\n",
       "      <th></th>\n",
       "      <th></th>\n",
       "      <th></th>\n",
       "      <th></th>\n",
       "      <th></th>\n",
       "      <th></th>\n",
       "      <th></th>\n",
       "      <th></th>\n",
       "      <th></th>\n",
       "      <th></th>\n",
       "      <th></th>\n",
       "      <th></th>\n",
       "      <th></th>\n",
       "    </tr>\n",
       "  </thead>\n",
       "  <tbody>\n",
       "    <tr>\n",
       "      <th>-4532153018459703766</th>\n",
       "      <td>0.934745</td>\n",
       "      <td>0.009119</td>\n",
       "      <td>0.009382</td>\n",
       "      <td>1.007647</td>\n",
       "      <td>0.006104</td>\n",
       "      <td>0.001604</td>\n",
       "      <td>0.007174</td>\n",
       "      <td>0.003258</td>\n",
       "      <td>0.070793</td>\n",
       "      <td>0.740102</td>\n",
       "      <td>...</td>\n",
       "      <td>0.005702</td>\n",
       "      <td>0.006210</td>\n",
       "      <td>0.002715</td>\n",
       "      <td>0.007186</td>\n",
       "      <td>0.004234</td>\n",
       "      <td>0.005086</td>\n",
       "      <td>0.005810</td>\n",
       "      <td>0.002970</td>\n",
       "      <td>0.008533</td>\n",
       "      <td>0</td>\n",
       "    </tr>\n",
       "    <tr>\n",
       "      <th>-6696652885210834715</th>\n",
       "      <td>0.880519</td>\n",
       "      <td>0.178126</td>\n",
       "      <td>0.034684</td>\n",
       "      <td>1.004028</td>\n",
       "      <td>0.006911</td>\n",
       "      <td>0.005552</td>\n",
       "      <td>0.005068</td>\n",
       "      <td>0.008781</td>\n",
       "      <td>0.020626</td>\n",
       "      <td>0.266275</td>\n",
       "      <td>...</td>\n",
       "      <td>0.001928</td>\n",
       "      <td>0.002996</td>\n",
       "      <td>0.001701</td>\n",
       "      <td>0.002980</td>\n",
       "      <td>0.007479</td>\n",
       "      <td>0.007870</td>\n",
       "      <td>0.003284</td>\n",
       "      <td>0.003169</td>\n",
       "      <td>0.008514</td>\n",
       "      <td>0</td>\n",
       "    </tr>\n",
       "    <tr>\n",
       "      <th>7128959966677571777</th>\n",
       "      <td>0.880875</td>\n",
       "      <td>0.009704</td>\n",
       "      <td>0.004284</td>\n",
       "      <td>0.812649</td>\n",
       "      <td>0.006450</td>\n",
       "      <td>0.003796</td>\n",
       "      <td>0.007196</td>\n",
       "      <td>0.000628</td>\n",
       "      <td>0.031044</td>\n",
       "      <td>0.251598</td>\n",
       "      <td>...</td>\n",
       "      <td>0.003470</td>\n",
       "      <td>0.009881</td>\n",
       "      <td>0.007691</td>\n",
       "      <td>0.007383</td>\n",
       "      <td>0.006623</td>\n",
       "      <td>0.000964</td>\n",
       "      <td>0.002202</td>\n",
       "      <td>0.000834</td>\n",
       "      <td>0.003444</td>\n",
       "      <td>0</td>\n",
       "    </tr>\n",
       "    <tr>\n",
       "      <th>6537921148391624412</th>\n",
       "      <td>0.621776</td>\n",
       "      <td>0.001083</td>\n",
       "      <td>0.012564</td>\n",
       "      <td>1.006183</td>\n",
       "      <td>0.007829</td>\n",
       "      <td>0.004532</td>\n",
       "      <td>0.009937</td>\n",
       "      <td>0.007792</td>\n",
       "      <td>0.007235</td>\n",
       "      <td>0.085103</td>\n",
       "      <td>...</td>\n",
       "      <td>0.004576</td>\n",
       "      <td>0.001789</td>\n",
       "      <td>0.005140</td>\n",
       "      <td>0.002704</td>\n",
       "      <td>0.006184</td>\n",
       "      <td>0.001899</td>\n",
       "      <td>0.008183</td>\n",
       "      <td>0.005560</td>\n",
       "      <td>0.002983</td>\n",
       "      <td>0</td>\n",
       "    </tr>\n",
       "    <tr>\n",
       "      <th>2065103583825424365</th>\n",
       "      <td>0.871900</td>\n",
       "      <td>0.005573</td>\n",
       "      <td>0.007679</td>\n",
       "      <td>0.815746</td>\n",
       "      <td>0.001247</td>\n",
       "      <td>0.000231</td>\n",
       "      <td>0.005528</td>\n",
       "      <td>0.002436</td>\n",
       "      <td>0.269407</td>\n",
       "      <td>0.069952</td>\n",
       "      <td>...</td>\n",
       "      <td>0.008897</td>\n",
       "      <td>0.005045</td>\n",
       "      <td>0.003706</td>\n",
       "      <td>0.002974</td>\n",
       "      <td>0.004162</td>\n",
       "      <td>0.005764</td>\n",
       "      <td>0.008154</td>\n",
       "      <td>0.006944</td>\n",
       "      <td>0.000905</td>\n",
       "      <td>0</td>\n",
       "    </tr>\n",
       "  </tbody>\n",
       "</table>\n",
       "<p>5 rows × 151 columns</p>\n",
       "</div>"
      ],
      "text/plain": [
       "                           P_2      D_39       B_1       B_2       R_1  \\\n",
       "customer_ID                                                              \n",
       "-4532153018459703766  0.934745  0.009119  0.009382  1.007647  0.006104   \n",
       "-6696652885210834715  0.880519  0.178126  0.034684  1.004028  0.006911   \n",
       " 7128959966677571777  0.880875  0.009704  0.004284  0.812649  0.006450   \n",
       " 6537921148391624412  0.621776  0.001083  0.012564  1.006183  0.007829   \n",
       " 2065103583825424365  0.871900  0.005573  0.007679  0.815746  0.001247   \n",
       "\n",
       "                          D_41       B_3      D_44       B_4      D_45  ...  \\\n",
       "customer_ID                                                             ...   \n",
       "-4532153018459703766  0.001604  0.007174  0.003258  0.070793  0.740102  ...   \n",
       "-6696652885210834715  0.005552  0.005068  0.008781  0.020626  0.266275  ...   \n",
       " 7128959966677571777  0.003796  0.007196  0.000628  0.031044  0.251598  ...   \n",
       " 6537921148391624412  0.004532  0.009937  0.007792  0.007235  0.085103  ...   \n",
       " 2065103583825424365  0.000231  0.005528  0.002436  0.269407  0.069952  ...   \n",
       "\n",
       "                         D_131     D_133      R_28     D_139     D_140  \\\n",
       "customer_ID                                                              \n",
       "-4532153018459703766  0.005702  0.006210  0.002715  0.007186  0.004234   \n",
       "-6696652885210834715  0.001928  0.002996  0.001701  0.002980  0.007479   \n",
       " 7128959966677571777  0.003470  0.009881  0.007691  0.007383  0.006623   \n",
       " 6537921148391624412  0.004576  0.001789  0.005140  0.002704  0.006184   \n",
       " 2065103583825424365  0.008897  0.005045  0.003706  0.002974  0.004162   \n",
       "\n",
       "                         D_141     D_143     D_144     D_145  target  \n",
       "customer_ID                                                           \n",
       "-4532153018459703766  0.005086  0.005810  0.002970  0.008533       0  \n",
       "-6696652885210834715  0.007870  0.003284  0.003169  0.008514       0  \n",
       " 7128959966677571777  0.000964  0.002202  0.000834  0.003444       0  \n",
       " 6537921148391624412  0.001899  0.008183  0.005560  0.002983       0  \n",
       " 2065103583825424365  0.005764  0.008154  0.006944  0.000905       0  \n",
       "\n",
       "[5 rows x 151 columns]"
      ]
     },
     "execution_count": 4,
     "metadata": {},
     "output_type": "execute_result"
    }
   ],
   "source": [
    "train_org.head()\n",
    "train_org = train_org.dropna(axis=1, thresh=int(0.90*len(train_org)))\n",
    "train_org=train_org.set_index(['customer_ID'])\n",
    "train_org=train_org.ffill().bfill()\n",
    "train_org=train_org.reset_index()\n",
    "train_org=train_org.groupby('customer_ID').tail(1)\n",
    "train_org=train_org.set_index(['customer_ID'])\n",
    "train_org.drop(['S_2'],axis=1,inplace=True)\n",
    "\n",
    "train_org.head()"
   ]
  },
  {
   "cell_type": "code",
   "execution_count": 5,
   "metadata": {},
   "outputs": [],
   "source": [
    "cols_used = train_org.columns"
   ]
  },
  {
   "cell_type": "code",
   "execution_count": 6,
   "metadata": {},
   "outputs": [],
   "source": [
    "features = [x for x in train_org.columns.values if x not in ['customer_ID', 'target', 'S_2']]\n",
    "X, y = train_org[features], train_org['target']\n",
    "X_train, X_test, y_train, y_test = train_test_split(X, y, test_size = 0.2, random_state=100, stratify=y)"
   ]
  },
  {
   "cell_type": "markdown",
   "metadata": {},
   "source": [
    "# **Evaluation Metric**"
   ]
  },
  {
   "cell_type": "code",
   "execution_count": 7,
   "metadata": {},
   "outputs": [],
   "source": [
    "def amex_metric(y_true: pd.DataFrame, y_pred: pd.DataFrame) -> float:\n",
    "\n",
    "    def top_four_percent_captured(y_true: pd.DataFrame, y_pred: pd.DataFrame) -> float:\n",
    "        df = (pd.concat([y_true, y_pred], axis='columns')\n",
    "              .sort_values('prediction', ascending=False))\n",
    "        df['weight'] = df['target'].apply(lambda x: 20 if x==0 else 1)\n",
    "        four_pct_cutoff = int(0.04 * df['weight'].sum())\n",
    "        df['weight_cumsum'] = df['weight'].cumsum()\n",
    "        df_cutoff = df.loc[df['weight_cumsum'] <= four_pct_cutoff]\n",
    "        return (df_cutoff['target'] == 1).sum() / (df['target'] == 1).sum()\n",
    "        \n",
    "    def weighted_gini(y_true: pd.DataFrame, y_pred: pd.DataFrame) -> float:\n",
    "        df = (pd.concat([y_true, y_pred], axis='columns')\n",
    "              .sort_values('prediction', ascending=False))\n",
    "        df['weight'] = df['target'].apply(lambda x: 20 if x==0 else 1)\n",
    "        df['random'] = (df['weight'] / df['weight'].sum()).cumsum()\n",
    "        total_pos = (df['target'] * df['weight']).sum()\n",
    "        df['cum_pos_found'] = (df['target'] * df['weight']).cumsum()\n",
    "        df['lorentz'] = df['cum_pos_found'] / total_pos\n",
    "        df['gini'] = (df['lorentz'] - df['random']) * df['weight']\n",
    "        return df['gini'].sum()\n",
    "\n",
    "    def normalized_weighted_gini(y_true: pd.DataFrame, y_pred: pd.DataFrame) -> float:\n",
    "        y_true_pred = y_true.rename(columns={'target': 'prediction'})\n",
    "        return weighted_gini(y_true, y_pred) / weighted_gini(y_true, y_true_pred)\n",
    "\n",
    "    g = normalized_weighted_gini(y_true, y_pred)\n",
    "    d = top_four_percent_captured(y_true, y_pred)\n",
    "\n",
    "    return 0.5 * (g + d)"
   ]
  },
  {
   "cell_type": "code",
   "execution_count": 8,
   "metadata": {},
   "outputs": [],
   "source": [
    "start_time = time.time()"
   ]
  },
  {
   "cell_type": "code",
   "execution_count": 9,
   "metadata": {},
   "outputs": [
    {
     "data": {
      "text/plain": [
       "RandomForestClassifier(n_estimators=150, random_state=0)"
      ]
     },
     "execution_count": 9,
     "metadata": {},
     "output_type": "execute_result"
    }
   ],
   "source": [
    "tree, depth = 200, None\n",
    "\n",
    "dtc = RandomForestClassifier(\n",
    "    n_estimators = tree, random_state=0,\n",
    "    max_depth = depth\n",
    ")\n",
    "\n",
    "\n",
    "dtc.fit(X_train, y_train)"
   ]
  },
  {
   "cell_type": "code",
   "execution_count": 10,
   "metadata": {},
   "outputs": [
    {
     "name": "stdout",
     "output_type": "stream",
     "text": [
      "Random forest with 150 trees and None depth take: --- 1571.8680748939514 seconds ---\n"
     ]
    }
   ],
   "source": [
    "print(\"Random forest with \" + str(tree) + \" trees and \" + str(depth) +\" depth take: \" + \n",
    "      \"--- %s seconds ---\" % (time.time() - start_time))"
   ]
  },
  {
   "cell_type": "code",
   "execution_count": 11,
   "metadata": {},
   "outputs": [
    {
     "name": "stdout",
     "output_type": "stream",
     "text": [
      "accuracy:  89.14%\n"
     ]
    }
   ],
   "source": [
    "preds = dtc.predict(X_test)\n",
    "# Compute accuracy\n",
    "accuracy = accuracy_score(y_test, preds)\n",
    "print(f'accuracy: {accuracy: .2%}')\n",
    "\n",
    "y_pred = pd.DataFrame(y_test.copy(deep=True))\n",
    "y_pred = y_pred.rename(columns={'target':'prediction'})\n",
    "# preds_prob = xg_cl.predict_proba(X_test)[:,1]\n",
    "y_pred['prediction'] = dtc.predict_proba(X_test)[:,1]"
   ]
  },
  {
   "cell_type": "code",
   "execution_count": 67,
   "metadata": {
    "scrolled": true
   },
   "outputs": [
    {
     "name": "stdout",
     "output_type": "stream",
     "text": [
      "Metric Evaluation Values\n",
      "\n",
      "Numpy: 0.754704230400788\n"
     ]
    }
   ],
   "source": [
    "print('Metric Evaluation Values\\n')\n",
    "# print(f'Numpy: {amex_metric(y_test.to_frame(), preds_prob_df)}')\n",
    "print(f': {amex_metric(y_test.to_frame(), y_pred)}')"
   ]
  },
  {
   "cell_type": "code",
   "execution_count": null,
   "metadata": {},
   "outputs": [],
   "source": []
  }
 ],
 "metadata": {
  "kernelspec": {
   "display_name": "Python 3 (ipykernel)",
   "language": "python",
   "name": "python3"
  },
  "language_info": {
   "codemirror_mode": {
    "name": "ipython",
    "version": 3
   },
   "file_extension": ".py",
   "mimetype": "text/x-python",
   "name": "python",
   "nbconvert_exporter": "python",
   "pygments_lexer": "ipython3",
   "version": "3.9.12"
  }
 },
 "nbformat": 4,
 "nbformat_minor": 4
}
