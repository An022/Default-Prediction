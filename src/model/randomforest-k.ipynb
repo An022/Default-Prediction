{
 "cells": [
  {
   "cell_type": "code",
   "execution_count": 23,
   "metadata": {},
   "outputs": [],
   "source": [
    "import numpy as np\n",
    "import pandas as pd \n",
    "import random\n",
    "import os\n",
    "import warnings, gc\n",
    "import time\n",
    "\n",
    "from sklearn.metrics import roc_auc_score, roc_curve, auc\n",
    "from sklearn.metrics import accuracy_score\n",
    "from sklearn.ensemble import RandomForestClassifier\n",
    "from sklearn.preprocessing import LabelEncoder\n",
    "from sklearn.model_selection import train_test_split\n",
    "from sklearn.model_selection import StratifiedKFold, KFold\n",
    "from sklearn.metrics import roc_auc_score, roc_curve, auc\n",
    "from sklearn.metrics import confusion_matrix"
   ]
  },
  {
   "cell_type": "markdown",
   "metadata": {},
   "source": [
    "# **Read File**"
   ]
  },
  {
   "cell_type": "code",
   "execution_count": 24,
   "metadata": {},
   "outputs": [],
   "source": [
    "TRAIN_PATH = './input/train.parquet'"
   ]
  },
  {
   "cell_type": "code",
   "execution_count": 25,
   "metadata": {},
   "outputs": [
    {
     "name": "stdout",
     "output_type": "stream",
     "text": [
      "Reading train data...\n",
      "shape of data: (5531451, 191)\n",
      "The training data begins on 2017-03-01 00:00:00 and ends on 2018-03-31 00:00:00.\n",
      "There are 458,913 customers in the training set and 191 features.\n",
      "CPU times: user 46.4 s, sys: 3min 25s, total: 4min 11s\n",
      "Wall time: 7min 47s\n"
     ]
    }
   ],
   "source": [
    "%%time\n",
    "def read_file(path = '', usecols = None):\n",
    "    # LOAD DATAFRAME\n",
    "    if usecols is not None: df = pd.read_parquet(path, columns=usecols)\n",
    "    else: df = pd.read_parquet(path)\n",
    "\n",
    "    print('shape of data:', df.shape)\n",
    "    print(\"The training data begins on {} and ends on {}.\".format(df['S_2'].min(),df['S_2'].max()))\n",
    "\n",
    "    df = df.sort_values(['customer_ID','S_2'])\n",
    "    df_out = df.groupby(['customer_ID']).nth(-1).reset_index(drop=False)\n",
    "    print(\"There are {:,.0f} customers in the training set and {} features.\".format(df_out.shape[0],df_out.shape[1]))\n",
    "    del df\n",
    "    _ = gc.collect()\n",
    "    return df_out\n",
    "\n",
    "print('Reading train data...')\n",
    "\n",
    "train_o = read_file(path = TRAIN_PATH)"
   ]
  },
  {
   "cell_type": "code",
   "execution_count": 26,
   "metadata": {
    "scrolled": true
   },
   "outputs": [],
   "source": [
    "train_o.head()\n",
    "train = train_o.dropna(axis=1, thresh=int(0.90*len(train_o)))\n",
    "train = train.set_index(['customer_ID'])\n",
    "train = train.ffill().bfill()\n",
    "train = train.reset_index()\n",
    "train = train.groupby('customer_ID').tail(1)\n",
    "train = train.set_index(['customer_ID'])\n",
    "train.drop(['S_2'],axis=1,inplace=True)\n",
    "\n",
    "# train.head()"
   ]
  },
  {
   "cell_type": "code",
   "execution_count": 27,
   "metadata": {},
   "outputs": [],
   "source": [
    "cols_used = train.columns"
   ]
  },
  {
   "cell_type": "markdown",
   "metadata": {},
   "source": [
    "# **Evaluation Metric**"
   ]
  },
  {
   "cell_type": "code",
   "execution_count": 28,
   "metadata": {},
   "outputs": [],
   "source": [
    "def amex_metric(y_true: pd.DataFrame, y_pred: pd.DataFrame) -> float:\n",
    "\n",
    "    def top_four_percent_captured(y_true: pd.DataFrame, y_pred: pd.DataFrame) -> float:\n",
    "        df = (pd.concat([y_true, y_pred], axis='columns')\n",
    "              .sort_values('prediction', ascending=False))\n",
    "        df['weight'] = df['target'].apply(lambda x: 20 if x==0 else 1)\n",
    "        four_pct_cutoff = int(0.04 * df['weight'].sum())\n",
    "        df['weight_cumsum'] = df['weight'].cumsum()\n",
    "        df_cutoff = df.loc[df['weight_cumsum'] <= four_pct_cutoff]\n",
    "        return (df_cutoff['target'] == 1).sum() / (df['target'] == 1).sum()\n",
    "        \n",
    "    def weighted_gini(y_true: pd.DataFrame, y_pred: pd.DataFrame) -> float:\n",
    "        df = (pd.concat([y_true, y_pred], axis='columns')\n",
    "              .sort_values('prediction', ascending=False))\n",
    "        df['weight'] = df['target'].apply(lambda x: 20 if x==0 else 1)\n",
    "        df['random'] = (df['weight'] / df['weight'].sum()).cumsum()\n",
    "        total_pos = (df['target'] * df['weight']).sum()\n",
    "        df['cum_pos_found'] = (df['target'] * df['weight']).cumsum()\n",
    "        df['lorentz'] = df['cum_pos_found'] / total_pos\n",
    "        df['gini'] = (df['lorentz'] - df['random']) * df['weight']\n",
    "        return df['gini'].sum()\n",
    "\n",
    "    def normalized_weighted_gini(y_true: pd.DataFrame, y_pred: pd.DataFrame) -> float:\n",
    "        y_true_pred = y_true.rename(columns={'target': 'prediction'})\n",
    "        return weighted_gini(y_true, y_pred) / weighted_gini(y_true, y_true_pred)\n",
    "\n",
    "    g = normalized_weighted_gini(y_true, y_pred)\n",
    "    d = top_four_percent_captured(y_true, y_pred)\n",
    "\n",
    "    return 0.5 * (g + d)"
   ]
  },
  {
   "cell_type": "code",
   "execution_count": 29,
   "metadata": {},
   "outputs": [],
   "source": [
    "tree, depth = 200, None\n",
    "\n",
    "\n",
    "dtc = RandomForestClassifier(\n",
    "    n_estimators = tree, random_state=0,\n",
    "    max_depth = depth\n",
    ")\n"
   ]
  },
  {
   "cell_type": "code",
   "execution_count": 30,
   "metadata": {},
   "outputs": [],
   "source": [
    "features = [x for x in train.columns.values if x not in ['customer_ID', 'target', 'S_2']]\n",
    "X, y = train[features], train['target']\n",
    "X_train, X_test, y_train, y_test = train_test_split(X, y, test_size = 0.2, random_state=100, stratify=y)"
   ]
  },
  {
   "cell_type": "code",
   "execution_count": null,
   "metadata": {
    "scrolled": true
   },
   "outputs": [
    {
     "name": "stdout",
     "output_type": "stream",
     "text": [
      "#########################\n",
      "### Fold 1\n",
      "### Train size 367130 Valid size 91783\n",
      "### Training with 100% fold data...\n",
      "#########################\n",
      "Validation Gini: 0.98480, AUC: 0.9788 \n",
      "\n",
      "#########################\n",
      "### Fold 2\n",
      "### Train size 367130 Valid size 91783\n",
      "### Training with 100% fold data...\n",
      "#########################\n",
      "Validation Gini: 0.98417, AUC: 0.9794 \n",
      "\n",
      "#########################\n",
      "### Fold 3\n",
      "### Train size 367130 Valid size 91783\n",
      "### Training with 100% fold data...\n",
      "#########################\n",
      "Validation Gini: 0.98482, AUC: 0.9793 \n",
      "\n",
      "#########################\n",
      "### Fold 4\n",
      "### Train size 367131 Valid size 91782\n",
      "### Training with 100% fold data...\n",
      "#########################\n",
      "Validation Gini: 0.98411, AUC: 0.9786 \n",
      "\n",
      "#########################\n",
      "### Fold 5\n",
      "### Train size 367131 Valid size 91782\n",
      "### Training with 100% fold data...\n",
      "#########################\n"
     ]
    }
   ],
   "source": [
    "%%time\n",
    "K = 5\n",
    "cv = KFold(n_splits=K, random_state=200, shuffle=True)\n",
    "results = pd.DataFrame(columns=['training_score', 'test_score'])\n",
    "gini=[]\n",
    "TRAIN_SUBSAMPLE = 1.0\n",
    "    \n",
    "for (train, test), i in zip(cv.split(X, y), range(K)):\n",
    "    \n",
    "    \n",
    "    print('#'*25)\n",
    "    print('### Fold',i+1)\n",
    "    print('### Train size',len(train),'Valid size',len(test))\n",
    "    print(f'### Training with {int(TRAIN_SUBSAMPLE*100)}% fold data...')\n",
    "    print('#'*25)\n",
    "    \n",
    "    \n",
    "    dtc.fit(X.iloc[train], y.iloc[train])\n",
    "    \n",
    "    preds = dtc.predict(X_test)\n",
    "    # Compute accuracy\n",
    "    auc_score = accuracy_score(y_test, preds)\n",
    "\n",
    "    y_pred = pd.DataFrame(y_test.copy(deep=True))\n",
    "    y_pred = y_pred.rename(columns={'target':'prediction'})\n",
    "    y_pred['prediction'] = dtc.predict_proba(X_test)[:,1]\n",
    "    \n",
    "\n",
    "    gini_score = amex_metric(y_test.to_frame(), y_pred)\n",
    "    gini.append(gini_score)\n",
    "    \n",
    "\n",
    "    print(\"Validation Gini: {:.5f}, AUC: {:.4f} \\n\".format(gini_score,auc_score))\n",
    "\n"
   ]
  }
 ],
 "metadata": {
  "celltoolbar": "Attachments",
  "kernelspec": {
   "display_name": "Python 3 (ipykernel)",
   "language": "python",
   "name": "python3"
  },
  "language_info": {
   "codemirror_mode": {
    "name": "ipython",
    "version": 3
   },
   "file_extension": ".py",
   "mimetype": "text/x-python",
   "name": "python",
   "nbconvert_exporter": "python",
   "pygments_lexer": "ipython3",
   "version": "3.9.12"
  }
 },
 "nbformat": 4,
 "nbformat_minor": 4
}
